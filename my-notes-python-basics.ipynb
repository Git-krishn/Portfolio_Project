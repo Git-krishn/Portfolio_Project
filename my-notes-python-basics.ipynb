{
 "cells": [
  {
   "cell_type": "code",
   "execution_count": 1,
   "id": "dc5e80a2",
   "metadata": {
    "_cell_guid": "b1076dfc-b9ad-4769-8c92-a6c4dae69d19",
    "_uuid": "8f2839f25d086af736a60e9eeb907d3b93b6e0e5",
    "execution": {
     "iopub.execute_input": "2022-03-31T11:01:40.694636Z",
     "iopub.status.busy": "2022-03-31T11:01:40.693231Z",
     "iopub.status.idle": "2022-03-31T11:01:40.697631Z",
     "shell.execute_reply": "2022-03-31T11:01:40.698161Z",
     "shell.execute_reply.started": "2022-03-31T10:46:32.779553Z"
    },
    "papermill": {
     "duration": 0.024732,
     "end_time": "2022-03-31T11:01:40.698433",
     "exception": false,
     "start_time": "2022-03-31T11:01:40.673701",
     "status": "completed"
    },
    "tags": []
   },
   "outputs": [],
   "source": [
    "# This Python 3 environment comes with many helpful analytics libraries installed\n",
    "# It is defined by the kaggle/python Docker image: https://github.com/kaggle/docker-python\n",
    "# For example, here's several helpful packages to load\n",
    "\n",
    "import numpy as np # linear algebra\n",
    "import pandas as pd # data processing, CSV file I/O (e.g. pd.read_csv)\n",
    "\n",
    "# Input data files are available in the read-only \"../input/\" directory\n",
    "# For example, running this (by clicking run or pressing Shift+Enter) will list all files under the input directory\n",
    "\n",
    "import os\n",
    "for dirname, _, filenames in os.walk('/kaggle/input'):\n",
    "    for filename in filenames:\n",
    "        print(os.path.join(dirname, filename))\n",
    "\n",
    "# You can write up to 20GB to the current directory (/kaggle/working/) that gets preserved as output when you create a version using \"Save & Run All\" \n",
    "# You can also write temporary files to /kaggle/temp/, but they won't be saved outside of the current session"
   ]
  },
  {
   "cell_type": "code",
   "execution_count": 2,
   "id": "ed3c3034",
   "metadata": {
    "execution": {
     "iopub.execute_input": "2022-03-31T11:01:40.710944Z",
     "iopub.status.busy": "2022-03-31T11:01:40.710057Z",
     "iopub.status.idle": "2022-03-31T11:01:40.715433Z",
     "shell.execute_reply": "2022-03-31T11:01:40.715905Z",
     "shell.execute_reply.started": "2022-03-31T10:58:54.900697Z"
    },
    "papermill": {
     "duration": 0.012832,
     "end_time": "2022-03-31T11:01:40.716072",
     "exception": false,
     "start_time": "2022-03-31T11:01:40.703240",
     "status": "completed"
    },
    "tags": []
   },
   "outputs": [
    {
     "name": "stdout",
     "output_type": "stream",
     "text": [
      "welcome to python\n",
      "What's your name?\n"
     ]
    }
   ],
   "source": [
    "# strings:\n",
    "# Strings are collection of alphabets, words or other characters. It is one of the primitive data structure. \n",
    "# Python has a built in data class called as str.\n",
    "# Python strings are immutable, meaning they cannot be changed after created.\n",
    "message = 'welcome to python' # we can either use '' quotes or \"\" to write a string\n",
    "\n",
    "print(message)\n",
    "\n",
    "#we can use '\\' inside the string so that we don't cofuse python with out own aposthrpe's in the string \n",
    "\n",
    "question = 'What\\'s your name?'\n",
    "print(question)\n",
    "\n",
    "\n"
   ]
  },
  {
   "cell_type": "code",
   "execution_count": null,
   "id": "1ba06362",
   "metadata": {
    "papermill": {
     "duration": 0.004335,
     "end_time": "2022-03-31T11:01:40.725362",
     "exception": false,
     "start_time": "2022-03-31T11:01:40.721027",
     "status": "completed"
    },
    "tags": []
   },
   "outputs": [],
   "source": []
  }
 ],
 "metadata": {
  "kernelspec": {
   "display_name": "Python 3",
   "language": "python",
   "name": "python3"
  },
  "language_info": {
   "codemirror_mode": {
    "name": "ipython",
    "version": 3
   },
   "file_extension": ".py",
   "mimetype": "text/x-python",
   "name": "python",
   "nbconvert_exporter": "python",
   "pygments_lexer": "ipython3",
   "version": "3.7.12"
  },
  "papermill": {
   "default_parameters": {},
   "duration": 10.057874,
   "end_time": "2022-03-31T11:01:41.338950",
   "environment_variables": {},
   "exception": null,
   "input_path": "__notebook__.ipynb",
   "output_path": "__notebook__.ipynb",
   "parameters": {},
   "start_time": "2022-03-31T11:01:31.281076",
   "version": "2.3.3"
  }
 },
 "nbformat": 4,
 "nbformat_minor": 5
}
